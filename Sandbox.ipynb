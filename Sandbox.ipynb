{
 "cells": [
  {
   "cell_type": "code",
   "execution_count": 1,
   "metadata": {},
   "outputs": [],
   "source": [
    "import numpy as np\n",
    "import pandas as pd\n",
    "import matplotlib.pyplot as plt\n",
    "from datetime import datetime, timedelta"
   ]
  },
  {
   "cell_type": "code",
   "execution_count": 7,
   "metadata": {},
   "outputs": [],
   "source": [
    "data = pd.read_csv('data/data.csv').drop('Unnamed: 0', axis = 1)"
   ]
  },
  {
   "cell_type": "code",
   "execution_count": 8,
   "metadata": {},
   "outputs": [
    {
     "data": {
      "text/html": [
       "<div>\n",
       "<style scoped>\n",
       "    .dataframe tbody tr th:only-of-type {\n",
       "        vertical-align: middle;\n",
       "    }\n",
       "\n",
       "    .dataframe tbody tr th {\n",
       "        vertical-align: top;\n",
       "    }\n",
       "\n",
       "    .dataframe thead th {\n",
       "        text-align: right;\n",
       "    }\n",
       "</style>\n",
       "<table border=\"1\" class=\"dataframe\">\n",
       "  <thead>\n",
       "    <tr style=\"text-align: right;\">\n",
       "      <th></th>\n",
       "      <th>uid</th>\n",
       "      <th>timestamp</th>\n",
       "      <th>channel</th>\n",
       "      <th>clickthrough</th>\n",
       "      <th>purchase</th>\n",
       "      <th>gender</th>\n",
       "      <th>age</th>\n",
       "      <th>revenue</th>\n",
       "    </tr>\n",
       "  </thead>\n",
       "  <tbody>\n",
       "    <tr>\n",
       "      <th>0</th>\n",
       "      <td>2697588</td>\n",
       "      <td>2021-01-01 08:00:00</td>\n",
       "      <td>facebook</td>\n",
       "      <td>0</td>\n",
       "      <td>0</td>\n",
       "      <td>Female</td>\n",
       "      <td>Gen Alpha</td>\n",
       "      <td>0</td>\n",
       "    </tr>\n",
       "    <tr>\n",
       "      <th>1</th>\n",
       "      <td>2697588</td>\n",
       "      <td>2021-01-02 08:00:00</td>\n",
       "      <td>email</td>\n",
       "      <td>0</td>\n",
       "      <td>0</td>\n",
       "      <td>Female</td>\n",
       "      <td>Gen Alpha</td>\n",
       "      <td>0</td>\n",
       "    </tr>\n",
       "    <tr>\n",
       "      <th>2</th>\n",
       "      <td>2697588</td>\n",
       "      <td>2021-01-02 09:20:00</td>\n",
       "      <td>search</td>\n",
       "      <td>0</td>\n",
       "      <td>0</td>\n",
       "      <td>Female</td>\n",
       "      <td>Gen Alpha</td>\n",
       "      <td>0</td>\n",
       "    </tr>\n",
       "    <tr>\n",
       "      <th>3</th>\n",
       "      <td>2697588</td>\n",
       "      <td>2021-01-02 10:40:00</td>\n",
       "      <td>search</td>\n",
       "      <td>0</td>\n",
       "      <td>1</td>\n",
       "      <td>Female</td>\n",
       "      <td>Gen Alpha</td>\n",
       "      <td>15</td>\n",
       "    </tr>\n",
       "    <tr>\n",
       "      <th>4</th>\n",
       "      <td>2697588</td>\n",
       "      <td>2021-01-02 12:00:00</td>\n",
       "      <td>facebook</td>\n",
       "      <td>0</td>\n",
       "      <td>0</td>\n",
       "      <td>Female</td>\n",
       "      <td>Gen Alpha</td>\n",
       "      <td>0</td>\n",
       "    </tr>\n",
       "  </tbody>\n",
       "</table>\n",
       "</div>"
      ],
      "text/plain": [
       "       uid            timestamp   channel  clickthrough  purchase  gender  \\\n",
       "0  2697588  2021-01-01 08:00:00  facebook             0         0  Female   \n",
       "1  2697588  2021-01-02 08:00:00     email             0         0  Female   \n",
       "2  2697588  2021-01-02 09:20:00    search             0         0  Female   \n",
       "3  2697588  2021-01-02 10:40:00    search             0         1  Female   \n",
       "4  2697588  2021-01-02 12:00:00  facebook             0         0  Female   \n",
       "\n",
       "         age  revenue  \n",
       "0  Gen Alpha        0  \n",
       "1  Gen Alpha        0  \n",
       "2  Gen Alpha        0  \n",
       "3  Gen Alpha       15  \n",
       "4  Gen Alpha        0  "
      ]
     },
     "execution_count": 8,
     "metadata": {},
     "output_type": "execute_result"
    }
   ],
   "source": [
    "data['revenue'] = np.where(data['purchase'] == False, 0, 15)\n",
    "data.replace({True: 1, False: 0}, inplace = True)\n",
    "data.head()"
   ]
  },
  {
   "cell_type": "code",
   "execution_count": 12,
   "metadata": {},
   "outputs": [
    {
     "data": {
      "text/plain": [
       "<AxesSubplot:xlabel='channel'>"
      ]
     },
     "execution_count": 12,
     "metadata": {},
     "output_type": "execute_result"
    },
    {
     "data": {
      "image/png": "[encoded data removed]",
      "text/plain": [
       "<Figure size 432x288 with 1 Axes>"
      ]
     },
     "metadata": {
      "needs_background": "light"
     },
     "output_type": "display_data"
    }
   ],
   "source": [
    "channels = data.groupby('channel')['revenue'].mean()\n",
    "channels.plot()"
   ]
  },
  {
   "cell_type": "code",
   "execution_count": 18,
   "metadata": {},
   "outputs": [
    {
     "data": {
      "text/plain": [
       "<AxesSubplot:ylabel='gender,channel'>"
      ]
     },
     "execution_count": 18,
     "metadata": {},
     "output_type": "execute_result"
    },
    {
     "data": {
      "image/png": "[encoded data removed]",
      "text/plain": [
       "<Figure size 432x288 with 1 Axes>"
      ]
     },
     "metadata": {
      "needs_background": "light"
     },
     "output_type": "display_data"
    }
   ],
   "source": [
    "gender = data.groupby(['gender', 'channel'])['revenue'].sum()\n",
    "gender.plot(kind = 'barh')"
   ]
  },
  {
   "cell_type": "code",
   "execution_count": 22,
   "metadata": {},
   "outputs": [
    {
     "data": {
      "text/plain": [
       "gender  age        channel \n",
       "Female  Boomer     email        4170\n",
       "                   facebook     3780\n",
       "                   search       3600\n",
       "                   youtube      1365\n",
       "        Gen Alpha  email       32385\n",
       "                   facebook    25500\n",
       "                   search      24510\n",
       "                   youtube      8625\n",
       "        Gen Z      email        3870\n",
       "                   facebook     2970\n",
       "                   search       3585\n",
       "                   youtube      1215\n",
       "        Millenial  email        4080\n",
       "                   facebook     3420\n",
       "                   search       3330\n",
       "                   youtube      1275\n",
       "Male    Boomer     email        4305\n",
       "                   facebook     3075\n",
       "                   search       3510\n",
       "                   youtube      1155\n",
       "        Gen Alpha  email       31725\n",
       "                   facebook    24255\n",
       "                   search      22740\n",
       "                   youtube      8520\n",
       "        Gen Z      email        4425\n",
       "                   facebook     3015\n",
       "                   search       3555\n",
       "                   youtube      1305\n",
       "        Millenial  email        4770\n",
       "                   facebook     3915\n",
       "                   search       3585\n",
       "                   youtube      1290\n",
       "Name: revenue, dtype: int64"
      ]
     },
     "execution_count": 22,
     "metadata": {},
     "output_type": "execute_result"
    }
   ],
   "source": [
    "data.groupby(['gender', 'age', 'channel'])['revenue'].sum()"
   ]
  },
  {
   "cell_type": "code",
   "execution_count": 29,
   "metadata": {},
   "outputs": [
    {
     "data": {
      "text/plain": [
       "channel\n",
       "email       5982\n",
       "facebook    4662\n",
       "search      4561\n",
       "youtube     1650\n",
       "Name: purchase, dtype: int64"
      ]
     },
     "execution_count": 29,
     "metadata": {},
     "output_type": "execute_result"
    }
   ],
   "source": [
    "conversions = data.groupby('channel')['purchase'].sum()\n",
    "conversions"
   ]
  },
  {
   "cell_type": "code",
   "execution_count": 30,
   "metadata": {},
   "outputs": [
    {
     "data": {
      "text/plain": [
       "channel\n",
       "email       0.009423\n",
       "facebook    0.007676\n",
       "search      0.007760\n",
       "youtube     0.007850\n",
       "Name: clickthrough, dtype: float64"
      ]
     },
     "execution_count": 30,
     "metadata": {},
     "output_type": "execute_result"
    }
   ],
   "source": [
    "clickthrough = data.groupby('channel')['clickthrough'].mean()\n",
    "\n",
    "clickthrough"
   ]
  },
  {
   "cell_type": "code",
   "execution_count": null,
   "metadata": {},
   "outputs": [],
   "source": []
  },
  {
   "cell_type": "code",
   "execution_count": null,
   "metadata": {},
   "outputs": [],
   "source": []
  }
 ],
 "metadata": {
  "kernelspec": {
   "display_name": "Python 3",
   "language": "python",
   "name": "python3"
  },
  "language_info": {
   "codemirror_mode": {
    "name": "ipython",
    "version": 3
   },
   "file_extension": ".py",
   "mimetype": "text/x-python",
   "name": "python",
   "nbconvert_exporter": "python",
   "pygments_lexer": "ipython3",
   "version": "3.8.5"
  }
 },
 "nbformat": 4,
 "nbformat_minor": 4
}
