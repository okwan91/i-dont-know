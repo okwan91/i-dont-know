{
 "cells": [
  {
   "cell_type": "code",
   "execution_count": 13,
   "metadata": {},
   "outputs": [],
   "source": [
    "import numpy as np\n",
    "import pandas as pd\n",
    "import matplotlib.pyplot as plt\n",
    "from datetime import datetime, timedelta"
   ]
  },
  {
   "cell_type": "code",
   "execution_count": 3,
   "metadata": {},
   "outputs": [],
   "source": [
    "class Consumer:\n",
    "    channels = ['facebook', 'youtube', 'email', 'search']\n",
    "    phases = ['problem recognition', 'information search', 'evaluation of alternatives', \n",
    "              'purchase decision', 'purchase', 'repurchase']\n",
    "\n",
    "    base_effectiveness = np.array([\n",
    "    [0.05, 0.1, 0.5, 0.0],  # problem recognition\n",
    "    [0.05, 0.1, 0.5, 0.1],  # information search\n",
    "    [0.07, 0.08, 0.6, 0.1],  # evaluation of alternatives\n",
    "    [0.08, 0.05, 0.6, 0.05],  # purchase decision\n",
    "    [0.09, 0.0, 0.6, 0.1],  # purchase\n",
    "    [0.1, 0.0, 0.6, 0.1]]) # repurchase\n",
    "\n",
    "    def __init__(self, uid):\n",
    "        self.uid = uid\n",
    "        self.phase = np.random.randint(0,6)\n",
    "        self.transitions = np.random.uniform(0, 0.1, 6)\n",
    "        self.channel_phase_suitability = np.random.uniform(0, 0.1, size = [6,4]) + self.base_effectiveness\n",
    "        self.phase_cooldowns = np.random.randint(0, 8, 6)\n",
    "        self.phase_cooldowns[5] = np.random.randint(8, 31)\n",
    "        self.phase_cooldown = 0\n",
    "        self.channel_preference = np.random.exponential(size=5) # last channel is \"not online / no ads\"\n",
    "        self.channel_preference = self.channel_preference/self.channel_preference.sum()\n",
    "        \n",
    "    def see_ad(self, ad_channel):\n",
    "        clickthrough = False\n",
    "        purchase = False\n",
    "        if self.phase_cooldown == 0:\n",
    "            transition_probability = (self.channel_phase_suitability * self.transitions.reshape(6,1))[self.phase, ad_channel]\n",
    "            if transition_probability > np.random.random():\n",
    "                purchase = self.transition()\n",
    "                if np.random.random() < 0.1:\n",
    "                    clickthrough = True\n",
    "            else:\n",
    "                if np.random.random() < 0.01:\n",
    "                    clickthrough = True\n",
    "        return clickthrough, purchase\n",
    "    \n",
    "    def day(self, timestamp):\n",
    "        self.phase_cooldown = np.max([0, self.phase_cooldown - 1])\n",
    "        today_ads = np.max([0, int(np.random.normal(10, 10))])\n",
    "        if today_ads == 0:\n",
    "            return\n",
    "        ad_channels = np.random.choice(np.arange(5), size=today_ads, p = self.channel_preference)\n",
    "        ad_channels[np.where([ad_channels==2])[1][1:]] = 4\n",
    "        timestamps = [timestamp + timedelta(hours = 16 * i/(today_ads)) for i in range(today_ads)]\n",
    "        \n",
    "        responses = []\n",
    "        \n",
    "        for idx, ad_channel in enumerate(ad_channels):\n",
    "            if ad_channel != 4:\n",
    "                row = [self.uid, timestamps[idx].strftime('%Y-%m-%d %H:%M:%S'), self.channels[ad_channel]] + list(self.see_ad(ad_channel))\n",
    "                row = dict(zip(['uid', 'timestamp', 'channel', 'clickthrough', 'purchase'], row))\n",
    "                responses.append(row)\n",
    "        return responses\n",
    "        \n",
    "        \n",
    "    def transition(self):\n",
    "        purchase = False\n",
    "        self.phase_cooldown = self.phase_cooldowns[self.phase]\n",
    "        self.phase += 1\n",
    "        if 0.9 > np.random.random():\n",
    "            clickthrough = True\n",
    "        if self.phase > 4:\n",
    "            purchase = True\n",
    "        if self.phase==6:\n",
    "            self.phase=5\n",
    "        return purchase\n",
    "    "
   ]
  },
  {
   "cell_type": "code",
   "execution_count": 4,
   "metadata": {},
   "outputs": [],
   "source": [
    "uids = np.random.choice(np.arange(1000000, 10000000), size=10000)\n",
    "consumers = [Consumer(uid) for uid in uids]"
   ]
  },
  {
   "cell_type": "code",
   "execution_count": 5,
   "metadata": {},
   "outputs": [],
   "source": [
    "u = pd.DataFrame({'uid': np.random.choice(np.arange(1000000, 10000000), size=10000),\n",
    "                  'gender': np.random.choice(a = ['Male','Female'], size = 10000, p = [.6,.4]),\n",
    "                    'age': np.random.poisson(lam = 25, size = 10000)})"
   ]
  },
  {
   "cell_type": "code",
   "execution_count": 6,
   "metadata": {},
   "outputs": [
    {
     "name": "stdout",
     "output_type": "stream",
     "text": [
      "2021-01-01\n",
      "2021-01-02\n",
      "2021-01-03\n",
      "2021-01-04\n",
      "2021-01-05\n",
      "2021-01-06\n",
      "2021-01-07\n",
      "2021-01-08\n",
      "2021-01-09\n",
      "2021-01-10\n",
      "2021-01-11\n",
      "2021-01-12\n",
      "2021-01-13\n",
      "2021-01-14\n",
      "2021-01-15\n",
      "2021-01-16\n",
      "2021-01-17\n",
      "2021-01-18\n",
      "2021-01-19\n",
      "2021-01-20\n",
      "2021-01-21\n",
      "2021-01-22\n",
      "2021-01-23\n",
      "2021-01-24\n",
      "2021-01-25\n",
      "2021-01-26\n",
      "2021-01-27\n",
      "2021-01-28\n",
      "2021-01-29\n",
      "2021-01-30\n",
      "2021-01-31\n",
      "2021-02-01\n",
      "2021-02-02\n",
      "2021-02-03\n",
      "2021-02-04\n",
      "2021-02-05\n",
      "2021-02-06\n",
      "2021-02-07\n",
      "2021-02-08\n",
      "2021-02-09\n",
      "2021-02-10\n",
      "2021-02-11\n",
      "2021-02-12\n",
      "2021-02-13\n",
      "2021-02-14\n",
      "2021-02-15\n",
      "2021-02-16\n",
      "2021-02-17\n",
      "2021-02-18\n",
      "2021-02-19\n",
      "2021-02-20\n",
      "2021-02-21\n",
      "2021-02-22\n",
      "2021-02-23\n",
      "2021-02-24\n",
      "2021-02-25\n",
      "2021-02-26\n",
      "2021-02-27\n",
      "2021-02-28\n",
      "2021-03-01\n",
      "2021-03-02\n",
      "2021-03-03\n",
      "2021-03-04\n",
      "2021-03-05\n",
      "2021-03-06\n",
      "2021-03-07\n",
      "2021-03-08\n",
      "2021-03-09\n",
      "2021-03-10\n",
      "2021-03-11\n",
      "2021-03-12\n",
      "2021-03-13\n",
      "2021-03-14\n",
      "2021-03-15\n",
      "2021-03-16\n",
      "2021-03-17\n",
      "2021-03-18\n",
      "2021-03-19\n",
      "2021-03-20\n",
      "2021-03-21\n",
      "2021-03-22\n",
      "2021-03-23\n",
      "2021-03-24\n",
      "2021-03-25\n",
      "2021-03-26\n",
      "2021-03-27\n",
      "2021-03-28\n",
      "2021-03-29\n",
      "2021-03-30\n",
      "2021-03-31\n",
      "2021-04-01\n",
      "2021-04-02\n",
      "2021-04-03\n",
      "2021-04-04\n",
      "2021-04-05\n",
      "2021-04-06\n",
      "2021-04-07\n",
      "2021-04-08\n",
      "2021-04-09\n",
      "2021-04-10\n"
     ]
    }
   ],
   "source": [
    "\n",
    "responses = []\n",
    "start = datetime(2021, 1, 1, 8, 0, 0)\n",
    "\n",
    "for i in range(100):\n",
    "    day = start + timedelta(days=i)\n",
    "    print(day.strftime('%Y-%m-%d'))\n",
    "    for c in consumers:\n",
    "        response =  c.day(day)\n",
    "        if response:\n",
    "            responses.extend(response)"
   ]
  },
  {
   "cell_type": "code",
   "execution_count": 38,
   "metadata": {},
   "outputs": [
    {
     "data": {
      "text/html": [
       "<div>\n",
       "<style scoped>\n",
       "    .dataframe tbody tr th:only-of-type {\n",
       "        vertical-align: middle;\n",
       "    }\n",
       "\n",
       "    .dataframe tbody tr th {\n",
       "        vertical-align: top;\n",
       "    }\n",
       "\n",
       "    .dataframe thead th {\n",
       "        text-align: right;\n",
       "    }\n",
       "</style>\n",
       "<table border=\"1\" class=\"dataframe\">\n",
       "  <thead>\n",
       "    <tr style=\"text-align: right;\">\n",
       "      <th></th>\n",
       "      <th>uid</th>\n",
       "      <th>timestamp</th>\n",
       "      <th>channel</th>\n",
       "      <th>clickthrough</th>\n",
       "      <th>purchase</th>\n",
       "      <th>gender</th>\n",
       "      <th>age</th>\n",
       "      <th>revenue</th>\n",
       "    </tr>\n",
       "  </thead>\n",
       "  <tbody>\n",
       "    <tr>\n",
       "      <th>0</th>\n",
       "      <td>3305034</td>\n",
       "      <td>2021-01-01 08:00:00</td>\n",
       "      <td>facebook</td>\n",
       "      <td>0</td>\n",
       "      <td>0</td>\n",
       "      <td>Female</td>\n",
       "      <td>24</td>\n",
       "      <td>0</td>\n",
       "    </tr>\n",
       "    <tr>\n",
       "      <th>1</th>\n",
       "      <td>3305034</td>\n",
       "      <td>2021-01-01 09:27:16</td>\n",
       "      <td>youtube</td>\n",
       "      <td>0</td>\n",
       "      <td>0</td>\n",
       "      <td>Female</td>\n",
       "      <td>24</td>\n",
       "      <td>0</td>\n",
       "    </tr>\n",
       "    <tr>\n",
       "      <th>2</th>\n",
       "      <td>3305034</td>\n",
       "      <td>2021-01-01 10:54:32</td>\n",
       "      <td>facebook</td>\n",
       "      <td>0</td>\n",
       "      <td>0</td>\n",
       "      <td>Female</td>\n",
       "      <td>24</td>\n",
       "      <td>0</td>\n",
       "    </tr>\n",
       "    <tr>\n",
       "      <th>3</th>\n",
       "      <td>3305034</td>\n",
       "      <td>2021-01-01 12:21:49</td>\n",
       "      <td>search</td>\n",
       "      <td>0</td>\n",
       "      <td>0</td>\n",
       "      <td>Female</td>\n",
       "      <td>24</td>\n",
       "      <td>0</td>\n",
       "    </tr>\n",
       "    <tr>\n",
       "      <th>4</th>\n",
       "      <td>3305034</td>\n",
       "      <td>2021-01-01 13:49:05</td>\n",
       "      <td>youtube</td>\n",
       "      <td>0</td>\n",
       "      <td>0</td>\n",
       "      <td>Female</td>\n",
       "      <td>24</td>\n",
       "      <td>0</td>\n",
       "    </tr>\n",
       "  </tbody>\n",
       "</table>\n",
       "</div>"
      ],
      "text/plain": [
       "       uid            timestamp   channel  clickthrough  purchase  gender  \\\n",
       "0  3305034  2021-01-01 08:00:00  facebook             0         0  Female   \n",
       "1  3305034  2021-01-01 09:27:16   youtube             0         0  Female   \n",
       "2  3305034  2021-01-01 10:54:32  facebook             0         0  Female   \n",
       "3  3305034  2021-01-01 12:21:49    search             0         0  Female   \n",
       "4  3305034  2021-01-01 13:49:05   youtube             0         0  Female   \n",
       "\n",
       "   age  revenue  \n",
       "0   24        0  \n",
       "1   24        0  \n",
       "2   24        0  \n",
       "3   24        0  \n",
       "4   24        0  "
      ]
     },
     "execution_count": 38,
     "metadata": {},
     "output_type": "execute_result"
    }
   ],
   "source": [
    "data = pd.DataFrame(responses)\n",
    "data = pd.merge(data, u, on = 'uid')\n",
    "data['revenue'] = np.where(data['purchase'] == False, 0, 15)\n",
    "data.replace({True: 1, False: 0}, inplace = True)\n",
    "data.head()"
   ]
  },
  {
   "cell_type": "code",
   "execution_count": 21,
   "metadata": {},
   "outputs": [
    {
     "data": {
      "text/plain": [
       "channel\n",
       "email       225\n",
       "facebook    195\n",
       "search      120\n",
       "youtube      60\n",
       "Name: revenue, dtype: int64"
      ]
     },
     "execution_count": 21,
     "metadata": {},
     "output_type": "execute_result"
    }
   ],
   "source": [
    "channels = data.groupby(['channel'])['revenue'].sum()\n",
    "channels"
   ]
  },
  {
   "cell_type": "code",
   "execution_count": 33,
   "metadata": {},
   "outputs": [
    {
     "data": {
      "text/plain": [
       "Text(0.5, 1.0, \"Each Channel's Revenue\")"
      ]
     },
     "execution_count": 33,
     "metadata": {},
     "output_type": "execute_result"
    },
    {
     "data": {
      "image/png": "[encoded data removed]",
      "text/plain": [
       "<Figure size 432x288 with 1 Axes>"
      ]
     },
     "metadata": {
      "needs_background": "light"
     },
     "output_type": "display_data"
    }
   ],
   "source": [
    "plt.plot(channels)\n",
    "plt.xlabel('channel', fontsize = 15)\n",
    "plt.ylabel('revenue', fontsize = 15)\n",
    "plt.title(\"Each Channel's Revenue\", fontsize = 20)"
   ]
  },
  {
   "cell_type": "code",
   "execution_count": 56,
   "metadata": {},
   "outputs": [
    {
     "data": {
      "text/plain": [
       "<AxesSubplot:xlabel='channel,clickthrough'>"
      ]
     },
     "execution_count": 56,
     "metadata": {},
     "output_type": "execute_result"
    },
    {
     "data": {
      "image/png": "[encoded data removed]",
      "text/plain": [
       "<Figure size 432x288 with 1 Axes>"
      ]
     },
     "metadata": {
      "needs_background": "light"
     },
     "output_type": "display_data"
    }
   ],
   "source": [
    "clickthrough = data.groupby(['channel', 'clickthrough'])['purchase'].mean()\n",
    "clickthrough.plot.bar()"
   ]
  },
  {
   "cell_type": "code",
   "execution_count": 55,
   "metadata": {},
   "outputs": [
    {
     "data": {
      "text/plain": [
       "channel   clickthrough\n",
       "email     0               15\n",
       "          1                0\n",
       "facebook  0               12\n",
       "          1                1\n",
       "search    0                8\n",
       "          1                0\n",
       "youtube   0                4\n",
       "          1                0\n",
       "Name: purchase, dtype: int64"
      ]
     },
     "execution_count": 55,
     "metadata": {},
     "output_type": "execute_result"
    }
   ],
   "source": [
    "clickthrough"
   ]
  },
  {
   "cell_type": "code",
   "execution_count": 61,
   "metadata": {},
   "outputs": [
    {
     "data": {
      "text/html": [
       "<div>\n",
       "<style scoped>\n",
       "    .dataframe tbody tr th:only-of-type {\n",
       "        vertical-align: middle;\n",
       "    }\n",
       "\n",
       "    .dataframe tbody tr th {\n",
       "        vertical-align: top;\n",
       "    }\n",
       "\n",
       "    .dataframe thead th {\n",
       "        text-align: right;\n",
       "    }\n",
       "</style>\n",
       "<table border=\"1\" class=\"dataframe\">\n",
       "  <thead>\n",
       "    <tr style=\"text-align: right;\">\n",
       "      <th></th>\n",
       "      <th></th>\n",
       "      <th>clickthrough</th>\n",
       "      <th>purchase</th>\n",
       "      <th>revenue</th>\n",
       "    </tr>\n",
       "    <tr>\n",
       "      <th>gender</th>\n",
       "      <th>channel</th>\n",
       "      <th></th>\n",
       "      <th></th>\n",
       "      <th></th>\n",
       "    </tr>\n",
       "  </thead>\n",
       "  <tbody>\n",
       "    <tr>\n",
       "      <th rowspan=\"4\" valign=\"top\">Female</th>\n",
       "      <th>email</th>\n",
       "      <td>2</td>\n",
       "      <td>2</td>\n",
       "      <td>30</td>\n",
       "    </tr>\n",
       "    <tr>\n",
       "      <th>facebook</th>\n",
       "      <td>3</td>\n",
       "      <td>3</td>\n",
       "      <td>45</td>\n",
       "    </tr>\n",
       "    <tr>\n",
       "      <th>search</th>\n",
       "      <td>5</td>\n",
       "      <td>0</td>\n",
       "      <td>0</td>\n",
       "    </tr>\n",
       "    <tr>\n",
       "      <th>youtube</th>\n",
       "      <td>10</td>\n",
       "      <td>1</td>\n",
       "      <td>15</td>\n",
       "    </tr>\n",
       "    <tr>\n",
       "      <th rowspan=\"4\" valign=\"top\">Male</th>\n",
       "      <th>email</th>\n",
       "      <td>11</td>\n",
       "      <td>13</td>\n",
       "      <td>195</td>\n",
       "    </tr>\n",
       "    <tr>\n",
       "      <th>facebook</th>\n",
       "      <td>16</td>\n",
       "      <td>10</td>\n",
       "      <td>150</td>\n",
       "    </tr>\n",
       "    <tr>\n",
       "      <th>search</th>\n",
       "      <td>18</td>\n",
       "      <td>8</td>\n",
       "      <td>120</td>\n",
       "    </tr>\n",
       "    <tr>\n",
       "      <th>youtube</th>\n",
       "      <td>4</td>\n",
       "      <td>3</td>\n",
       "      <td>45</td>\n",
       "    </tr>\n",
       "  </tbody>\n",
       "</table>\n",
       "</div>"
      ],
      "text/plain": [
       "                 clickthrough  purchase  revenue\n",
       "gender channel                                  \n",
       "Female email                2         2       30\n",
       "       facebook             3         3       45\n",
       "       search               5         0        0\n",
       "       youtube             10         1       15\n",
       "Male   email               11        13      195\n",
       "       facebook            16        10      150\n",
       "       search              18         8      120\n",
       "       youtube              4         3       45"
      ]
     },
     "execution_count": 61,
     "metadata": {},
     "output_type": "execute_result"
    }
   ],
   "source": [
    "gender = data.groupby(['gender', 'channel']).sum()\n",
    "gender.drop(['uid','age'], axis = 1, inplace = True)\n",
    "gender"
   ]
  },
  {
   "cell_type": "code",
   "execution_count": 66,
   "metadata": {},
   "outputs": [
    {
     "data": {
      "text/plain": [
       "uid      channel \n",
       "1679621  email        60\n",
       "         facebook    349\n",
       "         search      182\n",
       "         youtube      27\n",
       "3128248  email        78\n",
       "         facebook     77\n",
       "         search      122\n",
       "         youtube     387\n",
       "3305034  email        36\n",
       "         facebook    322\n",
       "         search      201\n",
       "         youtube     242\n",
       "3350066  email         9\n",
       "         facebook    753\n",
       "         search      137\n",
       "         youtube      24\n",
       "4295539  email        83\n",
       "         facebook     30\n",
       "         search      241\n",
       "         youtube      75\n",
       "5660607  email        68\n",
       "         facebook     83\n",
       "         search      558\n",
       "         youtube      15\n",
       "6108892  email        82\n",
       "         facebook    295\n",
       "         search       13\n",
       "         youtube      71\n",
       "6141950  email        76\n",
       "         facebook      3\n",
       "         search      339\n",
       "         youtube     113\n",
       "6452596  email        65\n",
       "         facebook     53\n",
       "         search      178\n",
       "         youtube     298\n",
       "7002381  email        75\n",
       "         facebook    480\n",
       "         search       79\n",
       "         youtube      59\n",
       "8054171  email        55\n",
       "         facebook    106\n",
       "         search      306\n",
       "         youtube     349\n",
       "8167079  email        79\n",
       "         facebook    214\n",
       "         search      121\n",
       "         youtube      16\n",
       "8830447  email        77\n",
       "         facebook    107\n",
       "         search       42\n",
       "         youtube     118\n",
       "8974175  email        66\n",
       "         facebook     23\n",
       "         search       32\n",
       "         youtube      84\n",
       "Name: timestamp, dtype: int64"
      ]
     },
     "execution_count": 66,
     "metadata": {},
     "output_type": "execute_result"
    }
   ],
   "source": [
    "views = data.groupby(['uid', 'channel'])['timestamp'].count()\n",
    "views"
   ]
  },
  {
   "cell_type": "code",
   "execution_count": null,
   "metadata": {},
   "outputs": [],
   "source": []
  },
  {
   "cell_type": "code",
   "execution_count": null,
   "metadata": {},
   "outputs": [],
   "source": []
  },
  {
   "cell_type": "code",
   "execution_count": null,
   "metadata": {},
   "outputs": [],
   "source": []
  },
  {
   "cell_type": "code",
   "execution_count": null,
   "metadata": {},
   "outputs": [],
   "source": []
  }
 ],
 "metadata": {
  "kernelspec": {
   "display_name": "Python 3",
   "language": "python",
   "name": "python3"
  },
  "language_info": {
   "codemirror_mode": {
    "name": "ipython",
    "version": 3
   },
   "file_extension": ".py",
   "mimetype": "text/x-python",
   "name": "python",
   "nbconvert_exporter": "python",
   "pygments_lexer": "ipython3",
   "version": "3.8.5"
  }
 },
 "nbformat": 4,
 "nbformat_minor": 4
}
