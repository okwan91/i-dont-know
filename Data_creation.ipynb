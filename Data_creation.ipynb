{
 "cells": [
  {
   "cell_type": "code",
   "execution_count": 1,
   "metadata": {},
   "outputs": [],
   "source": [
    "import numpy as np\n",
    "import pandas as pd\n",
    "import matplotlib.pyplot as plt\n",
    "from datetime import datetime, timedelta"
   ]
  },
  {
   "cell_type": "code",
   "execution_count": 2,
   "metadata": {},
   "outputs": [],
   "source": [
    "class Consumer:\n",
    "    channels = ['facebook', 'youtube', 'email', 'search']\n",
    "    phases = ['problem recognition', 'information search', 'evaluation of alternatives', \n",
    "              'purchase decision', 'purchase', 'repurchase']\n",
    "\n",
    "    base_effectiveness = np.array([\n",
    "    [0.05, 0.1, 0.5, 0.0],  # problem recognition\n",
    "    [0.05, 0.1, 0.5, 0.1],  # information search\n",
    "    [0.07, 0.08, 0.6, 0.1],  # evaluation of alternatives\n",
    "    [0.08, 0.05, 0.6, 0.05],  # purchase decision\n",
    "    [0.09, 0.0, 0.6, 0.1],  # purchase\n",
    "    [0.1, 0.0, 0.6, 0.1]]) # repurchase\n",
    "\n",
    "    def __init__(self, uid):\n",
    "        self.uid = uid\n",
    "        self.phase = np.random.randint(0,6)\n",
    "        self.transitions = np.random.uniform(0, 0.1, 6)\n",
    "        self.channel_phase_suitability = np.random.uniform(0, 0.1, size = [6,4]) + self.base_effectiveness\n",
    "        self.phase_cooldowns = np.random.randint(0, 8, 6)\n",
    "        self.phase_cooldowns[5] = np.random.randint(8, 31)\n",
    "        self.phase_cooldown = 0\n",
    "        self.channel_preference = np.random.exponential(size=5) # last channel is \"not online / no ads\"\n",
    "        self.channel_preference = self.channel_preference/self.channel_preference.sum() \n",
    "        \n",
    "    def see_ad(self, ad_channel):\n",
    "        clickthrough = False\n",
    "        purchase = False\n",
    "        if self.phase_cooldown == 0:\n",
    "            transition_probability = (self.channel_phase_suitability * self.transitions.reshape(6,1))[self.phase, ad_channel]\n",
    "            if transition_probability > np.random.random():\n",
    "                purchase = self.transition()\n",
    "                if np.random.random() < 0.1:\n",
    "                    clickthrough = True\n",
    "            else:\n",
    "                if np.random.random() < 0.01:\n",
    "                    clickthrough = True\n",
    "        return clickthrough, purchase\n",
    "    \n",
    "    def day(self, timestamp):\n",
    "        self.phase_cooldown = np.max([0, self.phase_cooldown - 1])\n",
    "        today_ads = np.max([0, int(np.random.normal(10, 10))])\n",
    "        if today_ads == 0:\n",
    "            return\n",
    "        ad_channels = np.random.choice(np.arange(5), size=today_ads, p = self.channel_preference)\n",
    "        ad_channels[np.where([ad_channels==2])[1][1:]] = 4\n",
    "        timestamps = [timestamp + timedelta(hours = 16 * i/(today_ads)) for i in range(today_ads)]\n",
    "        \n",
    "        responses = []\n",
    "        for idx, ad_channel in enumerate(ad_channels):\n",
    "            if ad_channel != 4:\n",
    "            \n",
    "                row = [self.uid, timestamps[idx].strftime('%Y-%m-%d %H:%M:%S'), self.channels[ad_channel]] + list(self.see_ad(ad_channel))\n",
    "                row = dict(zip(['uid', 'timestamp', 'channel', 'clickthrough', 'purchase'], row))\n",
    "                responses.append(row)\n",
    "        return responses\n",
    "        \n",
    "        \n",
    "    def transition(self):\n",
    "        purchase = False\n",
    "        self.phase_cooldown = self.phase_cooldowns[self.phase]\n",
    "        self.phase += 1\n",
    "        if 0.9 > np.random.random():\n",
    "            clickthrough = True\n",
    "        if self.phase > 4:\n",
    "            purchase = True\n",
    "        if self.phase==6:\n",
    "            self.phase=5\n",
    "        return purchase\n",
    "    "
   ]
  },
  {
   "cell_type": "code",
   "execution_count": 3,
   "metadata": {},
   "outputs": [],
   "source": [
    "#generating our consumers\n",
    "\n",
    "uids = np.random.choice(np.arange(1000000, 10000000), size=10000)\n",
    "consumers = [Consumer(uid) for uid in uids]"
   ]
  },
  {
   "cell_type": "code",
   "execution_count": 119,
   "metadata": {},
   "outputs": [
    {
     "data": {
      "text/plain": [
       "array(['Female'], dtype='<U6')"
      ]
     },
     "execution_count": 119,
     "metadata": {},
     "output_type": "execute_result"
    }
   ],
   "source": []
  },
  {
   "cell_type": "code",
   "execution_count": 126,
   "metadata": {},
   "outputs": [
    {
     "data": {
      "text/plain": [
       "array(['Gen Alpha'], dtype='<U9')"
      ]
     },
     "execution_count": 126,
     "metadata": {},
     "output_type": "execute_result"
    }
   ],
   "source": []
  },
  {
   "cell_type": "code",
   "execution_count": 4,
   "metadata": {},
   "outputs": [
    {
     "name": "stdout",
     "output_type": "stream",
     "text": [
      "2021-01-01\n",
      "2021-01-02\n",
      "2021-01-03\n",
      "2021-01-04\n",
      "2021-01-05\n",
      "2021-01-06\n",
      "2021-01-07\n",
      "2021-01-08\n",
      "2021-01-09\n",
      "2021-01-10\n",
      "2021-01-11\n",
      "2021-01-12\n",
      "2021-01-13\n",
      "2021-01-14\n",
      "2021-01-15\n",
      "2021-01-16\n",
      "2021-01-17\n",
      "2021-01-18\n",
      "2021-01-19\n",
      "2021-01-20\n",
      "2021-01-21\n",
      "2021-01-22\n",
      "2021-01-23\n",
      "2021-01-24\n",
      "2021-01-25\n",
      "2021-01-26\n",
      "2021-01-27\n",
      "2021-01-28\n",
      "2021-01-29\n",
      "2021-01-30\n",
      "2021-01-31\n",
      "2021-02-01\n",
      "2021-02-02\n",
      "2021-02-03\n",
      "2021-02-04\n",
      "2021-02-05\n",
      "2021-02-06\n",
      "2021-02-07\n",
      "2021-02-08\n",
      "2021-02-09\n",
      "2021-02-10\n",
      "2021-02-11\n",
      "2021-02-12\n",
      "2021-02-13\n",
      "2021-02-14\n",
      "2021-02-15\n",
      "2021-02-16\n",
      "2021-02-17\n",
      "2021-02-18\n",
      "2021-02-19\n",
      "2021-02-20\n",
      "2021-02-21\n",
      "2021-02-22\n",
      "2021-02-23\n",
      "2021-02-24\n",
      "2021-02-25\n",
      "2021-02-26\n",
      "2021-02-27\n",
      "2021-02-28\n",
      "2021-03-01\n",
      "2021-03-02\n",
      "2021-03-03\n",
      "2021-03-04\n",
      "2021-03-05\n",
      "2021-03-06\n",
      "2021-03-07\n",
      "2021-03-08\n",
      "2021-03-09\n",
      "2021-03-10\n",
      "2021-03-11\n",
      "2021-03-12\n",
      "2021-03-13\n",
      "2021-03-14\n",
      "2021-03-15\n",
      "2021-03-16\n",
      "2021-03-17\n",
      "2021-03-18\n",
      "2021-03-19\n",
      "2021-03-20\n",
      "2021-03-21\n",
      "2021-03-22\n",
      "2021-03-23\n",
      "2021-03-24\n",
      "2021-03-25\n",
      "2021-03-26\n",
      "2021-03-27\n",
      "2021-03-28\n",
      "2021-03-29\n",
      "2021-03-30\n",
      "2021-03-31\n",
      "2021-04-01\n",
      "2021-04-02\n",
      "2021-04-03\n",
      "2021-04-04\n",
      "2021-04-05\n",
      "2021-04-06\n",
      "2021-04-07\n",
      "2021-04-08\n",
      "2021-04-09\n",
      "2021-04-10\n"
     ]
    }
   ],
   "source": [
    "\n",
    "responses = []\n",
    "start = datetime(2021, 1, 1, 8, 0, 0)\n",
    "\n",
    "for i in range(100):\n",
    "    day = start + timedelta(days=i)\n",
    "    print(day.strftime('%Y-%m-%d'))\n",
    "    for c in consumers:\n",
    "        response =  c.day(day)\n",
    "        if response:\n",
    "            responses.extend(response)"
   ]
  },
  {
   "cell_type": "code",
   "execution_count": 6,
   "metadata": {},
   "outputs": [
    {
     "data": {
      "text/html": [
       "<div>\n",
       "<style scoped>\n",
       "    .dataframe tbody tr th:only-of-type {\n",
       "        vertical-align: middle;\n",
       "    }\n",
       "\n",
       "    .dataframe tbody tr th {\n",
       "        vertical-align: top;\n",
       "    }\n",
       "\n",
       "    .dataframe thead th {\n",
       "        text-align: right;\n",
       "    }\n",
       "</style>\n",
       "<table border=\"1\" class=\"dataframe\">\n",
       "  <thead>\n",
       "    <tr style=\"text-align: right;\">\n",
       "      <th></th>\n",
       "      <th>uid</th>\n",
       "      <th>timestamp</th>\n",
       "      <th>channel</th>\n",
       "      <th>clickthrough</th>\n",
       "      <th>purchase</th>\n",
       "    </tr>\n",
       "  </thead>\n",
       "  <tbody>\n",
       "    <tr>\n",
       "      <th>0</th>\n",
       "      <td>2697588</td>\n",
       "      <td>2021-01-01 08:00:00</td>\n",
       "      <td>facebook</td>\n",
       "      <td>False</td>\n",
       "      <td>False</td>\n",
       "    </tr>\n",
       "    <tr>\n",
       "      <th>1</th>\n",
       "      <td>9569845</td>\n",
       "      <td>2021-01-01 08:00:00</td>\n",
       "      <td>email</td>\n",
       "      <td>False</td>\n",
       "      <td>False</td>\n",
       "    </tr>\n",
       "    <tr>\n",
       "      <th>2</th>\n",
       "      <td>9569845</td>\n",
       "      <td>2021-01-01 12:00:00</td>\n",
       "      <td>facebook</td>\n",
       "      <td>False</td>\n",
       "      <td>False</td>\n",
       "    </tr>\n",
       "    <tr>\n",
       "      <th>3</th>\n",
       "      <td>9569845</td>\n",
       "      <td>2021-01-01 18:00:00</td>\n",
       "      <td>facebook</td>\n",
       "      <td>False</td>\n",
       "      <td>False</td>\n",
       "    </tr>\n",
       "    <tr>\n",
       "      <th>4</th>\n",
       "      <td>9569845</td>\n",
       "      <td>2021-01-01 19:00:00</td>\n",
       "      <td>youtube</td>\n",
       "      <td>False</td>\n",
       "      <td>False</td>\n",
       "    </tr>\n",
       "  </tbody>\n",
       "</table>\n",
       "</div>"
      ],
      "text/plain": [
       "       uid            timestamp   channel  clickthrough  purchase\n",
       "0  2697588  2021-01-01 08:00:00  facebook         False     False\n",
       "1  9569845  2021-01-01 08:00:00     email         False     False\n",
       "2  9569845  2021-01-01 12:00:00  facebook         False     False\n",
       "3  9569845  2021-01-01 18:00:00  facebook         False     False\n",
       "4  9569845  2021-01-01 19:00:00   youtube         False     False"
      ]
     },
     "execution_count": 6,
     "metadata": {},
     "output_type": "execute_result"
    }
   ],
   "source": [
    "data = pd.DataFrame(responses)\n",
    "\n",
    "data.head()"
   ]
  },
  {
   "cell_type": "code",
   "execution_count": 7,
   "metadata": {},
   "outputs": [],
   "source": [
    "#generate the gender of each UID with weight on which gender the user is depending on the \n",
    "#channel that they clicked the add.\n",
    "\n",
    "def gen_gender(size = 1, levels = ['Male','Female'], media = data['channel']):\n",
    "    if media == 'facebook':\n",
    "        prob = [0.6, 0.4]\n",
    "    elif media == 'youtube':\n",
    "        prob = [0.5, 0.5]\n",
    "    elif media == 'email':\n",
    "        prob = [0.7, 0.3]\n",
    "    elif media == 'search':\n",
    "        prob = [0.5, 0.5]\n",
    "        \n",
    "    arr = np.random.choice(levels, size = size, p = prob)              # decide levels based on input probabilities\n",
    "    return (arr)"
   ]
  },
  {
   "cell_type": "code",
   "execution_count": 8,
   "metadata": {},
   "outputs": [],
   "source": [
    "#generate the age of each UID with weight on which gender the user is depending on the \n",
    "#channel that they clicked the add.\n",
    "\n",
    "\n",
    "def gen_age(size = 1, media = data['channel']):\n",
    "    level = ['Gen Alpha', 'Gen Z', 'Millenial', 'Boomer']\n",
    "    if media == 'facebook':\n",
    "        prob = [.1, .2, .3, .4]\n",
    "    elif media == 'youtube':\n",
    "        prob = [.7, .1, .1, .1]\n",
    "    elif media == 'email':\n",
    "        prob = [.2, .2, .3, .3]\n",
    "    elif media == 'search':\n",
    "        prob = [.3, .3, .3, .1]\n",
    "        \n",
    "    arr = np.random.choice(level, size = size, p = prob)              # decide levels based on input probabilities\n",
    "    return (arr)"
   ]
  },
  {
   "cell_type": "code",
   "execution_count": 9,
   "metadata": {},
   "outputs": [],
   "source": [
    "u = pd.DataFrame({'uid': uids,\n",
    "                  'gender': gen_gender(size = 10000, levels = ['Male','Female'], media = data['channel'].all()),\n",
    "                    'age': gen_age(size = 10000, media = data['channel'].all())})"
   ]
  },
  {
   "cell_type": "code",
   "execution_count": 10,
   "metadata": {},
   "outputs": [
    {
     "data": {
      "text/html": [
       "<div>\n",
       "<style scoped>\n",
       "    .dataframe tbody tr th:only-of-type {\n",
       "        vertical-align: middle;\n",
       "    }\n",
       "\n",
       "    .dataframe tbody tr th {\n",
       "        vertical-align: top;\n",
       "    }\n",
       "\n",
       "    .dataframe thead th {\n",
       "        text-align: right;\n",
       "    }\n",
       "</style>\n",
       "<table border=\"1\" class=\"dataframe\">\n",
       "  <thead>\n",
       "    <tr style=\"text-align: right;\">\n",
       "      <th></th>\n",
       "      <th>uid</th>\n",
       "      <th>gender</th>\n",
       "      <th>age</th>\n",
       "    </tr>\n",
       "  </thead>\n",
       "  <tbody>\n",
       "    <tr>\n",
       "      <th>0</th>\n",
       "      <td>2697588</td>\n",
       "      <td>Female</td>\n",
       "      <td>Gen Alpha</td>\n",
       "    </tr>\n",
       "    <tr>\n",
       "      <th>1</th>\n",
       "      <td>9569845</td>\n",
       "      <td>Female</td>\n",
       "      <td>Gen Alpha</td>\n",
       "    </tr>\n",
       "    <tr>\n",
       "      <th>2</th>\n",
       "      <td>4983829</td>\n",
       "      <td>Female</td>\n",
       "      <td>Gen Alpha</td>\n",
       "    </tr>\n",
       "    <tr>\n",
       "      <th>3</th>\n",
       "      <td>4279915</td>\n",
       "      <td>Female</td>\n",
       "      <td>Gen Z</td>\n",
       "    </tr>\n",
       "    <tr>\n",
       "      <th>4</th>\n",
       "      <td>3446863</td>\n",
       "      <td>Male</td>\n",
       "      <td>Millenial</td>\n",
       "    </tr>\n",
       "    <tr>\n",
       "      <th>...</th>\n",
       "      <td>...</td>\n",
       "      <td>...</td>\n",
       "      <td>...</td>\n",
       "    </tr>\n",
       "    <tr>\n",
       "      <th>9995</th>\n",
       "      <td>4703199</td>\n",
       "      <td>Male</td>\n",
       "      <td>Millenial</td>\n",
       "    </tr>\n",
       "    <tr>\n",
       "      <th>9996</th>\n",
       "      <td>8329028</td>\n",
       "      <td>Female</td>\n",
       "      <td>Boomer</td>\n",
       "    </tr>\n",
       "    <tr>\n",
       "      <th>9997</th>\n",
       "      <td>6394154</td>\n",
       "      <td>Female</td>\n",
       "      <td>Boomer</td>\n",
       "    </tr>\n",
       "    <tr>\n",
       "      <th>9998</th>\n",
       "      <td>8601367</td>\n",
       "      <td>Male</td>\n",
       "      <td>Gen Alpha</td>\n",
       "    </tr>\n",
       "    <tr>\n",
       "      <th>9999</th>\n",
       "      <td>6505896</td>\n",
       "      <td>Female</td>\n",
       "      <td>Gen Alpha</td>\n",
       "    </tr>\n",
       "  </tbody>\n",
       "</table>\n",
       "<p>10000 rows × 3 columns</p>\n",
       "</div>"
      ],
      "text/plain": [
       "          uid  gender        age\n",
       "0     2697588  Female  Gen Alpha\n",
       "1     9569845  Female  Gen Alpha\n",
       "2     4983829  Female  Gen Alpha\n",
       "3     4279915  Female      Gen Z\n",
       "4     3446863    Male  Millenial\n",
       "...       ...     ...        ...\n",
       "9995  4703199    Male  Millenial\n",
       "9996  8329028  Female     Boomer\n",
       "9997  6394154  Female     Boomer\n",
       "9998  8601367    Male  Gen Alpha\n",
       "9999  6505896  Female  Gen Alpha\n",
       "\n",
       "[10000 rows x 3 columns]"
      ]
     },
     "execution_count": 10,
     "metadata": {},
     "output_type": "execute_result"
    }
   ],
   "source": [
    "u"
   ]
  },
  {
   "cell_type": "code",
   "execution_count": 11,
   "metadata": {},
   "outputs": [
    {
     "data": {
      "text/html": [
       "<div>\n",
       "<style scoped>\n",
       "    .dataframe tbody tr th:only-of-type {\n",
       "        vertical-align: middle;\n",
       "    }\n",
       "\n",
       "    .dataframe tbody tr th {\n",
       "        vertical-align: top;\n",
       "    }\n",
       "\n",
       "    .dataframe thead th {\n",
       "        text-align: right;\n",
       "    }\n",
       "</style>\n",
       "<table border=\"1\" class=\"dataframe\">\n",
       "  <thead>\n",
       "    <tr style=\"text-align: right;\">\n",
       "      <th></th>\n",
       "      <th>uid</th>\n",
       "      <th>timestamp</th>\n",
       "      <th>channel</th>\n",
       "      <th>clickthrough</th>\n",
       "      <th>purchase</th>\n",
       "      <th>gender</th>\n",
       "      <th>age</th>\n",
       "    </tr>\n",
       "  </thead>\n",
       "  <tbody>\n",
       "    <tr>\n",
       "      <th>0</th>\n",
       "      <td>2697588</td>\n",
       "      <td>2021-01-01 08:00:00</td>\n",
       "      <td>facebook</td>\n",
       "      <td>False</td>\n",
       "      <td>False</td>\n",
       "      <td>Female</td>\n",
       "      <td>Gen Alpha</td>\n",
       "    </tr>\n",
       "    <tr>\n",
       "      <th>1</th>\n",
       "      <td>2697588</td>\n",
       "      <td>2021-01-02 08:00:00</td>\n",
       "      <td>email</td>\n",
       "      <td>False</td>\n",
       "      <td>False</td>\n",
       "      <td>Female</td>\n",
       "      <td>Gen Alpha</td>\n",
       "    </tr>\n",
       "    <tr>\n",
       "      <th>2</th>\n",
       "      <td>2697588</td>\n",
       "      <td>2021-01-02 09:20:00</td>\n",
       "      <td>search</td>\n",
       "      <td>False</td>\n",
       "      <td>False</td>\n",
       "      <td>Female</td>\n",
       "      <td>Gen Alpha</td>\n",
       "    </tr>\n",
       "    <tr>\n",
       "      <th>3</th>\n",
       "      <td>2697588</td>\n",
       "      <td>2021-01-02 10:40:00</td>\n",
       "      <td>search</td>\n",
       "      <td>False</td>\n",
       "      <td>True</td>\n",
       "      <td>Female</td>\n",
       "      <td>Gen Alpha</td>\n",
       "    </tr>\n",
       "    <tr>\n",
       "      <th>4</th>\n",
       "      <td>2697588</td>\n",
       "      <td>2021-01-02 12:00:00</td>\n",
       "      <td>facebook</td>\n",
       "      <td>False</td>\n",
       "      <td>False</td>\n",
       "      <td>Female</td>\n",
       "      <td>Gen Alpha</td>\n",
       "    </tr>\n",
       "  </tbody>\n",
       "</table>\n",
       "</div>"
      ],
      "text/plain": [
       "       uid            timestamp   channel  clickthrough  purchase  gender  \\\n",
       "0  2697588  2021-01-01 08:00:00  facebook         False     False  Female   \n",
       "1  2697588  2021-01-02 08:00:00     email         False     False  Female   \n",
       "2  2697588  2021-01-02 09:20:00    search         False     False  Female   \n",
       "3  2697588  2021-01-02 10:40:00    search         False      True  Female   \n",
       "4  2697588  2021-01-02 12:00:00  facebook         False     False  Female   \n",
       "\n",
       "         age  \n",
       "0  Gen Alpha  \n",
       "1  Gen Alpha  \n",
       "2  Gen Alpha  \n",
       "3  Gen Alpha  \n",
       "4  Gen Alpha  "
      ]
     },
     "execution_count": 11,
     "metadata": {},
     "output_type": "execute_result"
    }
   ],
   "source": [
    "data = pd.merge(data, u, on = 'uid')\n",
    "\n",
    "data.head()"
   ]
  },
  {
   "cell_type": "code",
   "execution_count": 12,
   "metadata": {},
   "outputs": [],
   "source": [
    "# data.to_csv(r'data.csv', header= True)"
   ]
  },
  {
   "cell_type": "code",
   "execution_count": null,
   "metadata": {},
   "outputs": [],
   "source": [
    "data['revenue'] = np.where(data['purchase'] == False, 0, 15)\n",
    "data.replace({True: 1, False: 0}, inplace = True)\n",
    "data.head()"
   ]
  },
  {
   "cell_type": "code",
   "execution_count": 35,
   "metadata": {},
   "outputs": [
    {
     "data": {
      "text/plain": [
       "(6831021, 5)"
      ]
     },
     "execution_count": 35,
     "metadata": {},
     "output_type": "execute_result"
    }
   ],
   "source": [
    "pd.DataFrame(responses).shape"
   ]
  },
  {
   "cell_type": "code",
   "execution_count": 11,
   "metadata": {},
   "outputs": [
    {
     "data": {
      "text/plain": [
       "channel\n",
       "email       120\n",
       "facebook     30\n",
       "search       75\n",
       "youtube      45\n",
       "Name: revenue, dtype: int64"
      ]
     },
     "execution_count": 11,
     "metadata": {},
     "output_type": "execute_result"
    }
   ],
   "source": [
    "channels = data.groupby(['channel'])['revenue'].sum()\n",
    "channels"
   ]
  },
  {
   "cell_type": "code",
   "execution_count": null,
   "metadata": {},
   "outputs": [],
   "source": []
  },
  {
   "cell_type": "code",
   "execution_count": 12,
   "metadata": {},
   "outputs": [
    {
     "data": {
      "text/plain": [
       "Text(0.5, 1.0, \"Each Channel's Revenue\")"
      ]
     },
     "execution_count": 12,
     "metadata": {},
     "output_type": "execute_result"
    },
    {
     "data": {
      "image/png": "[encoded data removed]",
      "text/plain": [
       "<Figure size 432x288 with 1 Axes>"
      ]
     },
     "metadata": {
      "needs_background": "light"
     },
     "output_type": "display_data"
    }
   ],
   "source": [
    "plt.plot(channels)\n",
    "plt.xlabel('channel', fontsize = 15)\n",
    "plt.ylabel('revenue', fontsize = 15)\n",
    "plt.title(\"Each Channel's Revenue\", fontsize = 20)"
   ]
  },
  {
   "cell_type": "code",
   "execution_count": 13,
   "metadata": {},
   "outputs": [
    {
     "data": {
      "text/plain": [
       "<AxesSubplot:xlabel='channel,clickthrough'>"
      ]
     },
     "execution_count": 13,
     "metadata": {},
     "output_type": "execute_result"
    },
    {
     "data": {
      "image/png": "[encoded data removed]",
      "text/plain": [
       "<Figure size 432x288 with 1 Axes>"
      ]
     },
     "metadata": {
      "needs_background": "light"
     },
     "output_type": "display_data"
    }
   ],
   "source": [
    "clickthrough = data.groupby(['channel', 'clickthrough'])['purchase'].mean()\n",
    "clickthrough.plot.bar()"
   ]
  },
  {
   "cell_type": "code",
   "execution_count": 14,
   "metadata": {},
   "outputs": [
    {
     "data": {
      "text/plain": [
       "channel   clickthrough\n",
       "email     0               0.013267\n",
       "          1               0.000000\n",
       "facebook  0               0.001509\n",
       "          1               0.000000\n",
       "search    0               0.001440\n",
       "          1               0.050000\n",
       "youtube   0               0.001129\n",
       "          1               0.000000\n",
       "Name: purchase, dtype: float64"
      ]
     },
     "execution_count": 14,
     "metadata": {},
     "output_type": "execute_result"
    }
   ],
   "source": [
    "clickthrough"
   ]
  },
  {
   "cell_type": "code",
   "execution_count": 16,
   "metadata": {},
   "outputs": [
    {
     "data": {
      "text/html": [
       "<div>\n",
       "<style scoped>\n",
       "    .dataframe tbody tr th:only-of-type {\n",
       "        vertical-align: middle;\n",
       "    }\n",
       "\n",
       "    .dataframe tbody tr th {\n",
       "        vertical-align: top;\n",
       "    }\n",
       "\n",
       "    .dataframe thead th {\n",
       "        text-align: right;\n",
       "    }\n",
       "</style>\n",
       "<table border=\"1\" class=\"dataframe\">\n",
       "  <thead>\n",
       "    <tr style=\"text-align: right;\">\n",
       "      <th></th>\n",
       "      <th></th>\n",
       "      <th>clickthrough</th>\n",
       "      <th>purchase</th>\n",
       "      <th>revenue</th>\n",
       "    </tr>\n",
       "    <tr>\n",
       "      <th>gender</th>\n",
       "      <th>channel</th>\n",
       "      <th></th>\n",
       "      <th></th>\n",
       "      <th></th>\n",
       "    </tr>\n",
       "  </thead>\n",
       "  <tbody>\n",
       "    <tr>\n",
       "      <th rowspan=\"4\" valign=\"top\">Female</th>\n",
       "      <th>email</th>\n",
       "      <td>1</td>\n",
       "      <td>5</td>\n",
       "      <td>75</td>\n",
       "    </tr>\n",
       "    <tr>\n",
       "      <th>facebook</th>\n",
       "      <td>1</td>\n",
       "      <td>1</td>\n",
       "      <td>15</td>\n",
       "    </tr>\n",
       "    <tr>\n",
       "      <th>search</th>\n",
       "      <td>5</td>\n",
       "      <td>3</td>\n",
       "      <td>45</td>\n",
       "    </tr>\n",
       "    <tr>\n",
       "      <th>youtube</th>\n",
       "      <td>7</td>\n",
       "      <td>2</td>\n",
       "      <td>30</td>\n",
       "    </tr>\n",
       "    <tr>\n",
       "      <th rowspan=\"4\" valign=\"top\">Male</th>\n",
       "      <th>email</th>\n",
       "      <td>3</td>\n",
       "      <td>3</td>\n",
       "      <td>45</td>\n",
       "    </tr>\n",
       "    <tr>\n",
       "      <th>facebook</th>\n",
       "      <td>10</td>\n",
       "      <td>1</td>\n",
       "      <td>15</td>\n",
       "    </tr>\n",
       "    <tr>\n",
       "      <th>search</th>\n",
       "      <td>15</td>\n",
       "      <td>2</td>\n",
       "      <td>30</td>\n",
       "    </tr>\n",
       "    <tr>\n",
       "      <th>youtube</th>\n",
       "      <td>14</td>\n",
       "      <td>1</td>\n",
       "      <td>15</td>\n",
       "    </tr>\n",
       "  </tbody>\n",
       "</table>\n",
       "</div>"
      ],
      "text/plain": [
       "                 clickthrough  purchase  revenue\n",
       "gender channel                                  \n",
       "Female email                1         5       75\n",
       "       facebook             1         1       15\n",
       "       search               5         3       45\n",
       "       youtube              7         2       30\n",
       "Male   email                3         3       45\n",
       "       facebook            10         1       15\n",
       "       search              15         2       30\n",
       "       youtube             14         1       15"
      ]
     },
     "execution_count": 16,
     "metadata": {},
     "output_type": "execute_result"
    }
   ],
   "source": [
    "gender = data.groupby(['gender', 'channel']).sum()\n",
    "gender.drop(['uid'], axis = 1, inplace = True)\n",
    "gender"
   ]
  },
  {
   "cell_type": "code",
   "execution_count": 19,
   "metadata": {},
   "outputs": [
    {
     "data": {
      "text/plain": [
       "uid      channel \n",
       "1268501  email        69\n",
       "         facebook     25\n",
       "         search       70\n",
       "         youtube     278\n",
       "2108720  email        22\n",
       "         facebook    201\n",
       "         search      142\n",
       "         youtube     133\n",
       "2913133  email        50\n",
       "         search      312\n",
       "         youtube     225\n",
       "4464746  email        20\n",
       "         facebook     81\n",
       "         search      261\n",
       "         youtube      34\n",
       "5333145  email        77\n",
       "         facebook    239\n",
       "         search      317\n",
       "         youtube      11\n",
       "5336634  email        61\n",
       "         facebook    262\n",
       "         search      149\n",
       "         youtube     423\n",
       "5697257  email        77\n",
       "         facebook     85\n",
       "         search      215\n",
       "         youtube     272\n",
       "6364502  email         8\n",
       "         facebook    166\n",
       "         search      194\n",
       "         youtube     553\n",
       "8067993  email        45\n",
       "         facebook     62\n",
       "         search      119\n",
       "         youtube     514\n",
       "8270394  email        65\n",
       "         facebook     44\n",
       "         search      243\n",
       "         youtube      28\n",
       "8444951  email        32\n",
       "         facebook     84\n",
       "         search      709\n",
       "         youtube      71\n",
       "8615782  email        81\n",
       "         facebook     87\n",
       "         search       66\n",
       "         youtube     136\n",
       "Name: timestamp, dtype: int64"
      ]
     },
     "execution_count": 19,
     "metadata": {},
     "output_type": "execute_result"
    }
   ],
   "source": [
    "views = data.groupby(['uid', 'channel'])['timestamp'].count()\n",
    "\n",
    "views"
   ]
  },
  {
   "cell_type": "code",
   "execution_count": 33,
   "metadata": {},
   "outputs": [
    {
     "data": {
      "text/html": [
       "<div>\n",
       "<style scoped>\n",
       "    .dataframe tbody tr th:only-of-type {\n",
       "        vertical-align: middle;\n",
       "    }\n",
       "\n",
       "    .dataframe tbody tr th {\n",
       "        vertical-align: top;\n",
       "    }\n",
       "\n",
       "    .dataframe thead th {\n",
       "        text-align: right;\n",
       "    }\n",
       "</style>\n",
       "<table border=\"1\" class=\"dataframe\">\n",
       "  <thead>\n",
       "    <tr style=\"text-align: right;\">\n",
       "      <th></th>\n",
       "      <th>uid</th>\n",
       "      <th>gender</th>\n",
       "      <th>age</th>\n",
       "    </tr>\n",
       "  </thead>\n",
       "  <tbody>\n",
       "    <tr>\n",
       "      <th>1272</th>\n",
       "      <td>5336634</td>\n",
       "      <td>Male</td>\n",
       "      <td>Boomer</td>\n",
       "    </tr>\n",
       "  </tbody>\n",
       "</table>\n",
       "</div>"
      ],
      "text/plain": [
       "          uid gender     age\n",
       "1272  5336634   Male  Boomer"
      ]
     },
     "execution_count": 33,
     "metadata": {},
     "output_type": "execute_result"
    }
   ],
   "source": [
    "u[u['uid'] == 5336634]"
   ]
  },
  {
   "cell_type": "code",
   "execution_count": null,
   "metadata": {},
   "outputs": [],
   "source": []
  },
  {
   "cell_type": "code",
   "execution_count": null,
   "metadata": {},
   "outputs": [],
   "source": []
  },
  {
   "cell_type": "code",
   "execution_count": null,
   "metadata": {},
   "outputs": [],
   "source": []
  }
 ],
 "metadata": {
  "kernelspec": {
   "display_name": "Python 3",
   "language": "python",
   "name": "python3"
  },
  "language_info": {
   "codemirror_mode": {
    "name": "ipython",
    "version": 3
   },
   "file_extension": ".py",
   "mimetype": "text/x-python",
   "name": "python",
   "nbconvert_exporter": "python",
   "pygments_lexer": "ipython3",
   "version": "3.8.5"
  }
 },
 "nbformat": 4,
 "nbformat_minor": 4
}
